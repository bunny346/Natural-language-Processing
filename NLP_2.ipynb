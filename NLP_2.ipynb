{
  "nbformat": 4,
  "nbformat_minor": 0,
  "metadata": {
    "colab": {
      "provenance": [],
      "authorship_tag": "ABX9TyN3RAw3Bgd3AOSBe91qlvW8",
      "include_colab_link": true
    },
    "kernelspec": {
      "name": "python3",
      "display_name": "Python 3"
    },
    "language_info": {
      "name": "python"
    }
  },
  "cells": [
    {
      "cell_type": "markdown",
      "metadata": {
        "id": "view-in-github",
        "colab_type": "text"
      },
      "source": [
        "<a href=\"https://colab.research.google.com/github/bunny346/Natural-language-Processing/blob/main/NLP_2.ipynb\" target=\"_parent\"><img src=\"https://colab.research.google.com/assets/colab-badge.svg\" alt=\"Open In Colab\"/></a>"
      ]
    },
    {
      "cell_type": "code",
      "execution_count": 7,
      "metadata": {
        "colab": {
          "base_uri": "https://localhost:8080/"
        },
        "id": "o1KGIp_HSl-z",
        "outputId": "83df9d98-bfb9-4104-cd55-fd765a96bc0c"
      },
      "outputs": [
        {
          "output_type": "stream",
          "name": "stdout",
          "text": [
            "\n",
            "Sentence 1: first trust dow jones internet\n",
            "Nouns: []\n",
            "Verbs: []\n",
            "Adjectives: []\n",
            "\n",
            "Sentence 2: schwab intl large company index etf\n",
            "Nouns: ['company', 'index', 'etf']\n",
            "Verbs: []\n",
            "Adjectives: ['large']\n",
            "\n",
            "Sentence 3: vanguard small cap index adm\n",
            "Nouns: ['index']\n",
            "Verbs: []\n",
            "Adjectives: []\n",
            "\n",
            "Sentence 4: duke energy corp new com new isin #us4 sedol #b7jzsk0\n",
            "Nouns: ['com', 'isin', 'sedol']\n",
            "Verbs: []\n",
            "Adjectives: ['new']\n",
            "\n",
            "Sentence 5: visa inc class a\n",
            "Nouns: []\n",
            "Verbs: []\n",
            "Adjectives: []\n",
            "\n",
            "Original: My phone number is 1234567890 and my email is test@domain.com\n",
            "Phones: ['1234567890']\n",
            "Emails: ['test@domain.com']\n",
            "URLs: []\n",
            "Cleaned: My phone number is and my email is\n",
            "\n",
            "Original: Visit https://example.com for more info!!!\n",
            "Phones: []\n",
            "Emails: []\n",
            "URLs: ['https://example.com']\n",
            "Cleaned: Visit for more info\n",
            "\n",
            "Original: HELLO!!! This is SOOOOO exciting :))\n",
            "Phones: []\n",
            "Emails: []\n",
            "URLs: []\n",
            "Cleaned: HELLO This is SOOOOO exciting\n",
            "\n",
            "Original: Contact us at info@company.org or call +91 98765-43210\n",
            "Phones: ['+91 98765-43210']\n",
            "Emails: ['info@company.org']\n",
            "URLs: []\n",
            "Cleaned: Contact us at or call\n",
            "\n",
            "Original: Python's regex is very useful!!!  #Coding #Fun\n",
            "Phones: []\n",
            "Emails: []\n",
            "URLs: []\n",
            "Cleaned: Python s regex is very useful Coding Fun\n"
          ]
        }
      ],
      "source": [
        "import pandas as pd\n",
        "import re\n",
        "import spacy\n",
        "import zipfile\n",
        "\n",
        "# Specify the file within the ZIP to read\n",
        "zip_file_path = \"/content/archive (7).zip\"\n",
        "extracted_file_path = \"/content/train.csv\"\n",
        "\n",
        "with zipfile.ZipFile(zip_file_path, 'r') as zip_ref:\n",
        "    zip_ref.extract(\"train.csv\", \"/content/\")\n",
        "\n",
        "df = pd.read_csv(extracted_file_path)\n",
        "df=df.dropna(subset=['description_x'])\n",
        "texts=df['description_x'].head(5).tolist()\n",
        "\n",
        "nlp=spacy.load(\"en_core_web_sm\")\n",
        "for i,sent in enumerate(texts,1):\n",
        "    doc=nlp(sent)\n",
        "    nouns=[t.text for t in doc if t.pos_==\"NOUN\"]\n",
        "    verbs=[t.text for t in doc if t.pos_==\"VERB\"]\n",
        "    adjs=[t.text for t in doc if t.pos_==\"ADJ\"]\n",
        "    print(f\"\\nSentence {i}: {sent}\")\n",
        "    print(\"Nouns:\",nouns)\n",
        "    print(\"Verbs:\",verbs)\n",
        "    print(\"Adjectives:\",adjs)\n",
        "\n",
        "sample_texts=[\n",
        "    \"My phone number is 1234567890 and my email is test@domain.com\",\n",
        "    \"Visit https://example.com for more info!!!\",\n",
        "    \"HELLO!!! This is SOOOOO exciting :))\",\n",
        "    \"Contact us at info@company.org or call +91 98765-43210\",\n",
        "    \"Python's regex is very useful!!!  #Coding #Fun\"\n",
        "]\n",
        "\n",
        "phone_pattern=r'(\\+?\\d[\\d\\-\\s]{8,}\\d)'\n",
        "email_pattern=r'\\b[\\w\\.-]+@[\\w\\.-]+\\.\\w+\\b'\n",
        "url_pattern=r'http[s]?://\\S+|www\\.\\S+'\n",
        "special_pattern=r'[^A-Za-z0-9\\s]'\n",
        "\n",
        "for t in sample_texts:\n",
        "    phones=re.findall(phone_pattern,t)\n",
        "    emails=re.findall(email_pattern,t)\n",
        "    urls=re.findall(url_pattern,t)\n",
        "    print(f\"\\nOriginal: {t}\")\n",
        "    print(\"Phones:\",phones)\n",
        "    print(\"Emails:\",emails)\n",
        "    print(\"URLs:\",urls)\n",
        "    cleaned=re.sub(phone_pattern,' ',t)\n",
        "    cleaned=re.sub(email_pattern,' ',cleaned)\n",
        "    cleaned=re.sub(url_pattern,' ',cleaned)\n",
        "    cleaned=re.sub(special_pattern,' ',cleaned)\n",
        "    cleaned=re.sub(r'\\s+',' ',cleaned).strip()\n",
        "    print(\"Cleaned:\",cleaned)"
      ]
    }
  ]
}